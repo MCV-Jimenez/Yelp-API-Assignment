{
 "cells": [
  {
   "cell_type": "code",
   "execution_count": 15,
   "id": "8db7f5f9",
   "metadata": {},
   "outputs": [],
   "source": [
    "# Imports\n",
    "import json\n",
    "from yelpapi import YelpAPI"
   ]
  },
  {
   "cell_type": "code",
   "execution_count": 16,
   "id": "1d494c7b",
   "metadata": {},
   "outputs": [],
   "source": [
    "# Loading API Credentials\n",
    "import json\n",
    "with open('/Users/LP-Ca/.secret/yelp_api.json') as f:\n",
    "    creds = json.load(f)\n",
    "creds.keys()"
   ]
  },
  {
   "cell_type": "code",
   "execution_count": 17,
   "id": "e811ca99",
   "metadata": {},
   "outputs": [
    {
     "data": {
      "text/plain": [
       "<yelpapi.yelpapi.YelpAPI at 0x2e36468d9c8>"
      ]
     },
     "execution_count": 17,
     "metadata": {},
     "output_type": "execute_result"
    }
   ],
   "source": [
    "# Instantiate YelpAPI Variable\n",
    "yelp_api = YelpAPI(creds['API key'])\n",
    "yelp_api"
   ]
  },
  {
   "cell_type": "code",
   "execution_count": 18,
   "id": "a5e6a73f",
   "metadata": {
    "scrolled": true
   },
   "outputs": [
    {
     "data": {
      "text/plain": [
       "dict_keys(['businesses', 'total', 'region'])"
      ]
     },
     "execution_count": 18,
     "metadata": {},
     "output_type": "execute_result"
    }
   ],
   "source": [
    "# Test query\n",
    "results = yelp_api.search_query(location='Pawcatuck, CT', term='Burgers')\n",
    "\n",
    "type(results)\n",
    "results.keys()"
   ]
  },
  {
   "cell_type": "code",
   "execution_count": 19,
   "id": "9df723e0",
   "metadata": {},
   "outputs": [
    {
     "data": {
      "text/plain": [
       "dict"
      ]
     },
     "execution_count": 19,
     "metadata": {},
     "output_type": "execute_result"
    }
   ],
   "source": [
    "with open('/Users/LP-Ca/Documents/DataEnrichment/example_yelp_results.json') as f:\n",
    "    json_file = json.load(f)\n",
    "\n",
    "type(json_file)"
   ]
  },
  {
   "cell_type": "code",
   "execution_count": 20,
   "id": "dfbb6094",
   "metadata": {},
   "outputs": [
    {
     "data": {
      "text/plain": [
       "dict_keys(['businesses', 'total', 'region'])"
      ]
     },
     "execution_count": 20,
     "metadata": {},
     "output_type": "execute_result"
    }
   ],
   "source": [
    "json_file.keys()"
   ]
  },
  {
   "cell_type": "code",
   "execution_count": null,
   "id": "8761950c",
   "metadata": {},
   "outputs": [],
   "source": []
  }
 ],
 "metadata": {
  "kernelspec": {
   "display_name": "Python (dojo-env)",
   "language": "python",
   "name": "dojo-env"
  },
  "language_info": {
   "codemirror_mode": {
    "name": "ipython",
    "version": 3
   },
   "file_extension": ".py",
   "mimetype": "text/x-python",
   "name": "python",
   "nbconvert_exporter": "python",
   "pygments_lexer": "ipython3",
   "version": "3.7.12"
  },
  "toc": {
   "base_numbering": 1,
   "nav_menu": {},
   "number_sections": true,
   "sideBar": true,
   "skip_h1_title": false,
   "title_cell": "Table of Contents",
   "title_sidebar": "Contents",
   "toc_cell": false,
   "toc_position": {},
   "toc_section_display": true,
   "toc_window_display": false
  }
 },
 "nbformat": 4,
 "nbformat_minor": 5
}
