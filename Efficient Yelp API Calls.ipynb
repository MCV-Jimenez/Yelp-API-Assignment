{
 "cells": [
  {
   "cell_type": "markdown",
   "id": "24ffdcf7",
   "metadata": {},
   "source": [
    "# Effictient Yelp API Calls (CORE)\n",
    "\n",
    "**Marco Jimenez 6/3/2022**"
   ]
  },
  {
   "cell_type": "code",
   "execution_count": 77,
   "id": "78727bb8",
   "metadata": {},
   "outputs": [],
   "source": [
    "# Standard Imports\n",
    "import numpy as np\n",
    "import pandas as pd\n",
    "import matplotlib.pyplot as plt\n",
    "import seaborn as sns\n",
    "# Additional Imports\n",
    "import os, json, math, time\n",
    "from yelpapi import YelpAPI\n",
    "from tqdm.notebook import tqdm_notebook"
   ]
  },
  {
   "cell_type": "code",
   "execution_count": 78,
   "id": "c3affe48",
   "metadata": {},
   "outputs": [
    {
     "data": {
      "text/plain": [
       "dict_keys(['client id', 'API key'])"
      ]
     },
     "execution_count": 78,
     "metadata": {},
     "output_type": "execute_result"
    }
   ],
   "source": [
    "# Loading API Credentials\n",
    "with open('/Users/LP-Ca/.secret/yelp_api.json') as f:\n",
    "    creds = json.load(f)\n",
    "creds.keys()"
   ]
  },
  {
   "cell_type": "code",
   "execution_count": 79,
   "id": "0b21b200",
   "metadata": {},
   "outputs": [
    {
     "data": {
      "text/plain": [
       "<yelpapi.yelpapi.YelpAPI at 0x1fffc1365c8>"
      ]
     },
     "execution_count": 79,
     "metadata": {},
     "output_type": "execute_result"
    }
   ],
   "source": [
    "# Instantiating YelpAPI Variable\n",
    "yelp_api = YelpAPI(creds['API key'], timeout_s=5.0)\n",
    "yelp_api"
   ]
  },
  {
   "cell_type": "code",
   "execution_count": 80,
   "id": "e1523d8b",
   "metadata": {},
   "outputs": [],
   "source": [
    "# Defining variables for search conditions\n",
    "LOCATION = 'Westerly, RI,02804'\n",
    "TERM = 'Pizza'"
   ]
  },
  {
   "cell_type": "markdown",
   "id": "792d00ff",
   "metadata": {},
   "source": [
    "**Creating results-in-progress JSON file**"
   ]
  },
  {
   "cell_type": "code",
   "execution_count": 81,
   "id": "fbe972a8",
   "metadata": {},
   "outputs": [
    {
     "data": {
      "text/plain": [
       "'Data/results_in_progress_Pizza.json'"
      ]
     },
     "execution_count": 81,
     "metadata": {},
     "output_type": "execute_result"
    }
   ],
   "source": [
    "JSON_FILE = f\"Data/results_in_progress_Pizza.json\"\n",
    "JSON_FILE"
   ]
  },
  {
   "cell_type": "code",
   "execution_count": 82,
   "id": "c5993c96",
   "metadata": {},
   "outputs": [
    {
     "name": "stdout",
     "output_type": "stream",
     "text": [
      "[i] Data/results_in_progress_Pizza.json not found. Saving empty list to file\n"
     ]
    }
   ],
   "source": [
    "# Checking if JSON_FILE exists\n",
    "file_exists = os.path.isfile(JSON_FILE)\n",
    "# For loop in case it does not exist\n",
    "if file_exists == False:\n",
    "    # Getting folder name\n",
    "    folder = os.path.dirname(JSON_FILE)\n",
    "    # If JSON_FILE is included in folder:\n",
    "    if len(folder)>0:\n",
    "        # Create folder\n",
    "        os.makedirs(folder, exist_ok=True)\n",
    "    print(f\"[i] {JSON_FILE} not found. Saving empty list to file\")       \n",
    "        \n",
    "    # Saving first page of results\n",
    "    with open(JSON_FILE,'w') as f:\n",
    "        json.dump([],f)  \n",
    "else:\n",
    "    print(f\"[i] {JSON_FILE} already exists.\")"
   ]
  },
  {
   "cell_type": "code",
   "execution_count": 83,
   "id": "db2f041a",
   "metadata": {},
   "outputs": [
    {
     "name": "stdout",
     "output_type": "stream",
     "text": [
      "- 0 previous results found.\n"
     ]
    }
   ],
   "source": [
    "# Loading previous results and using len of results for offset\n",
    "with open(JSON_FILE,'r') as f:\n",
    "    prev_results = json.load(f)\n",
    "    \n",
    "## set offset based on previous results\n",
    "n_results = len(prev_results)\n",
    "print(f'- {n_results} previous results found.')"
   ]
  },
  {
   "cell_type": "markdown",
   "id": "0a9ff1ef",
   "metadata": {},
   "source": [
    "**Figuring out required number of pages**"
   ]
  },
  {
   "cell_type": "code",
   "execution_count": 84,
   "id": "d2988e9a",
   "metadata": {},
   "outputs": [
    {
     "data": {
      "text/plain": [
       "dict_keys(['businesses', 'total', 'region'])"
      ]
     },
     "execution_count": 84,
     "metadata": {},
     "output_type": "execute_result"
    }
   ],
   "source": [
    "# Performing API call and displayin dict keys\n",
    "results = yelp_api.search_query(location=LOCATION,\n",
    "                               term=TERM,\n",
    "                               offset=n_results)\n",
    "results.keys()"
   ]
  },
  {
   "cell_type": "code",
   "execution_count": 85,
   "id": "41c080b3",
   "metadata": {},
   "outputs": [
    {
     "data": {
      "text/plain": [
       "118"
      ]
     },
     "execution_count": 85,
     "metadata": {},
     "output_type": "execute_result"
    }
   ],
   "source": [
    "# Getting total number of results\n",
    "total_results = results['total']\n",
    "total_results"
   ]
  },
  {
   "cell_type": "code",
   "execution_count": 86,
   "id": "6487a938",
   "metadata": {},
   "outputs": [
    {
     "data": {
      "text/plain": [
       "20"
      ]
     },
     "execution_count": 86,
     "metadata": {},
     "output_type": "execute_result"
    }
   ],
   "source": [
    "# Getting number of results per page\n",
    "results_per_page = len(results['businesses'])\n",
    "results_per_page"
   ]
  },
  {
   "cell_type": "code",
   "execution_count": 87,
   "id": "3447689e",
   "metadata": {},
   "outputs": [
    {
     "data": {
      "text/plain": [
       "6"
      ]
     },
     "execution_count": 87,
     "metadata": {},
     "output_type": "execute_result"
    }
   ],
   "source": [
    "# Getting the number of pages by subtracting n_offset from the total and dividing the remainder by the number of results per page \n",
    "n_pages = math.ceil((results['total']-n_results)/ results_per_page)\n",
    "n_pages"
   ]
  },
  {
   "cell_type": "markdown",
   "id": "b2f521f9",
   "metadata": {},
   "source": [
    "**Adding results to .json file**"
   ]
  },
  {
   "cell_type": "code",
   "execution_count": 88,
   "id": "4022911e",
   "metadata": {},
   "outputs": [],
   "source": [
    "prev_results.extend(results['businesses'])\n",
    "with open(JSON_FILE, 'w') as f:\n",
    "     json.dump(prev_results,f)"
   ]
  },
  {
   "cell_type": "markdown",
   "id": "d0d3d397",
   "metadata": {},
   "source": [
    "**For loop to call each page**"
   ]
  },
  {
   "cell_type": "code",
   "execution_count": 89,
   "id": "74ef8582",
   "metadata": {},
   "outputs": [
    {
     "name": "stdout",
     "output_type": "stream",
     "text": [
      "Requirement already satisfied: tqdm in c:\\users\\lp-ca\\anaconda3\\envs\\dojo-env\\lib\\site-packages (4.64.0)\n",
      "Requirement already satisfied: colorama in c:\\users\\lp-ca\\anaconda3\\envs\\dojo-env\\lib\\site-packages (from tqdm) (0.4.4)\n",
      "Note: you may need to restart the kernel to use updated packages.\n"
     ]
    }
   ],
   "source": [
    "pip install tqdm"
   ]
  },
  {
   "cell_type": "code",
   "execution_count": 90,
   "id": "3a5354cb",
   "metadata": {},
   "outputs": [
    {
     "data": {
      "application/vnd.jupyter.widget-view+json": {
       "model_id": "cb748e3a9a264ac184d0b29e53e2ebcc",
       "version_major": 2,
       "version_minor": 0
      },
      "text/plain": [
       "  0%|          | 0/6 [00:00<?, ?it/s]"
      ]
     },
     "metadata": {},
     "output_type": "display_data"
    }
   ],
   "source": [
    "for i in tqdm_notebook( range(1,n_pages+1)):\n",
    "    time.sleep(.2)\n",
    "    # Reading in results in progress file and checking the length\n",
    "    with open(JSON_FILE, 'r') as f:\n",
    "        prev_results = json.load(f)\n",
    "    # Saving number of results to use as offset\n",
    "    n_results = len(prev_results)\n",
    "    # Using n_results as the offset value \n",
    "    results = yelp_api.search_query(location=LOCATION,\n",
    "                                    term=TERM, \n",
    "                                    offset=n_results)\n",
    "    \n",
    "    # Appending new results and saving to file\n",
    "    prev_results.extend(results['businesses'])\n",
    "    \n",
    "# Displaying previous_results\n",
    "    with open(JSON_FILE,'w') as f:\n",
    "        json.dump(prev_results,f)"
   ]
  },
  {
   "cell_type": "code",
   "execution_count": 91,
   "id": "f600d9eb",
   "metadata": {},
   "outputs": [
    {
     "data": {
      "text/html": [
       "<div>\n",
       "<style scoped>\n",
       "    .dataframe tbody tr th:only-of-type {\n",
       "        vertical-align: middle;\n",
       "    }\n",
       "\n",
       "    .dataframe tbody tr th {\n",
       "        vertical-align: top;\n",
       "    }\n",
       "\n",
       "    .dataframe thead th {\n",
       "        text-align: right;\n",
       "    }\n",
       "</style>\n",
       "<table border=\"1\" class=\"dataframe\">\n",
       "  <thead>\n",
       "    <tr style=\"text-align: right;\">\n",
       "      <th></th>\n",
       "      <th>id</th>\n",
       "      <th>alias</th>\n",
       "      <th>name</th>\n",
       "      <th>image_url</th>\n",
       "      <th>is_closed</th>\n",
       "      <th>url</th>\n",
       "      <th>review_count</th>\n",
       "      <th>categories</th>\n",
       "      <th>rating</th>\n",
       "      <th>coordinates</th>\n",
       "      <th>transactions</th>\n",
       "      <th>price</th>\n",
       "      <th>location</th>\n",
       "      <th>phone</th>\n",
       "      <th>display_phone</th>\n",
       "      <th>distance</th>\n",
       "    </tr>\n",
       "  </thead>\n",
       "  <tbody>\n",
       "    <tr>\n",
       "      <th>0</th>\n",
       "      <td>7oq4EY0WEO840xfLS6c9iQ</td>\n",
       "      <td>main-street-pizza-ashaway-2</td>\n",
       "      <td>Main Street Pizza</td>\n",
       "      <td>https://s3-media2.fl.yelpcdn.com/bphoto/Y7v9sw...</td>\n",
       "      <td>False</td>\n",
       "      <td>https://www.yelp.com/biz/main-street-pizza-ash...</td>\n",
       "      <td>29</td>\n",
       "      <td>[{'alias': 'pizza', 'title': 'Pizza'}]</td>\n",
       "      <td>3.5</td>\n",
       "      <td>{'latitude': 41.427066, 'longitude': -71.784767}</td>\n",
       "      <td>[]</td>\n",
       "      <td>$</td>\n",
       "      <td>{'address1': '229 Main', 'address2': None, 'ad...</td>\n",
       "      <td>+14013776860</td>\n",
       "      <td>(401) 377-6860</td>\n",
       "      <td>1784.570861</td>\n",
       "    </tr>\n",
       "    <tr>\n",
       "      <th>1</th>\n",
       "      <td>VagHPaOSlmrUCowH7lzWmw</td>\n",
       "      <td>vittorias-ny-pizza-westerly</td>\n",
       "      <td>Vittoria's NY Pizza</td>\n",
       "      <td>https://s3-media4.fl.yelpcdn.com/bphoto/y0mGE2...</td>\n",
       "      <td>False</td>\n",
       "      <td>https://www.yelp.com/biz/vittorias-ny-pizza-we...</td>\n",
       "      <td>67</td>\n",
       "      <td>[{'alias': 'pizza', 'title': 'Pizza'}]</td>\n",
       "      <td>4.0</td>\n",
       "      <td>{'latitude': 41.351879, 'longitude': -71.7709944}</td>\n",
       "      <td>[delivery]</td>\n",
       "      <td>$$</td>\n",
       "      <td>{'address1': '224 Post Rd', 'address2': 'Ste 3...</td>\n",
       "      <td>+14013221901</td>\n",
       "      <td>(401) 322-1901</td>\n",
       "      <td>8460.528206</td>\n",
       "    </tr>\n",
       "    <tr>\n",
       "      <th>2</th>\n",
       "      <td>EDSQSFjQrrD56led7AvTpQ</td>\n",
       "      <td>mr-pizza-westerly</td>\n",
       "      <td>Mr. Pizza</td>\n",
       "      <td>https://s3-media1.fl.yelpcdn.com/bphoto/_-FNJL...</td>\n",
       "      <td>False</td>\n",
       "      <td>https://www.yelp.com/biz/mr-pizza-westerly?adj...</td>\n",
       "      <td>18</td>\n",
       "      <td>[{'alias': 'pizza', 'title': 'Pizza'}, {'alias...</td>\n",
       "      <td>4.5</td>\n",
       "      <td>{'latitude': 41.36617, 'longitude': -71.830403...</td>\n",
       "      <td>[delivery]</td>\n",
       "      <td>NaN</td>\n",
       "      <td>{'address1': '49 Beach St', 'address2': None, ...</td>\n",
       "      <td>+14015967698</td>\n",
       "      <td>(401) 596-7698</td>\n",
       "      <td>8839.788579</td>\n",
       "    </tr>\n",
       "    <tr>\n",
       "      <th>3</th>\n",
       "      <td>Zyfo5HuK1i1YZCv3U-GvwQ</td>\n",
       "      <td>the-pizza-lady-pawcatuck</td>\n",
       "      <td>The Pizza Lady</td>\n",
       "      <td>https://s3-media1.fl.yelpcdn.com/bphoto/16ZFRx...</td>\n",
       "      <td>False</td>\n",
       "      <td>https://www.yelp.com/biz/the-pizza-lady-pawcat...</td>\n",
       "      <td>37</td>\n",
       "      <td>[{'alias': 'pizza', 'title': 'Pizza'}, {'alias...</td>\n",
       "      <td>4.0</td>\n",
       "      <td>{'latitude': 41.379569, 'longitude': -71.836204}</td>\n",
       "      <td>[delivery]</td>\n",
       "      <td>$</td>\n",
       "      <td>{'address1': '50 Liberty St', 'address2': None...</td>\n",
       "      <td>+18605991113</td>\n",
       "      <td>(860) 599-1113</td>\n",
       "      <td>8098.993882</td>\n",
       "    </tr>\n",
       "    <tr>\n",
       "      <th>4</th>\n",
       "      <td>zgNte7hf2UZsXpTBIoJkJQ</td>\n",
       "      <td>casa-della-luce-westerly</td>\n",
       "      <td>Casa Della Luce</td>\n",
       "      <td>https://s3-media1.fl.yelpcdn.com/bphoto/oAIn8p...</td>\n",
       "      <td>False</td>\n",
       "      <td>https://www.yelp.com/biz/casa-della-luce-weste...</td>\n",
       "      <td>143</td>\n",
       "      <td>[{'alias': 'italian', 'title': 'Italian'}, {'a...</td>\n",
       "      <td>4.0</td>\n",
       "      <td>{'latitude': 41.360386, 'longitude': -71.811803}</td>\n",
       "      <td>[delivery]</td>\n",
       "      <td>$$</td>\n",
       "      <td>{'address1': '105 Franklin St', 'address2': ''...</td>\n",
       "      <td>+14016374575</td>\n",
       "      <td>(401) 637-4575</td>\n",
       "      <td>8510.303267</td>\n",
       "    </tr>\n",
       "  </tbody>\n",
       "</table>\n",
       "</div>"
      ],
      "text/plain": [
       "                       id                        alias                 name  \\\n",
       "0  7oq4EY0WEO840xfLS6c9iQ  main-street-pizza-ashaway-2    Main Street Pizza   \n",
       "1  VagHPaOSlmrUCowH7lzWmw  vittorias-ny-pizza-westerly  Vittoria's NY Pizza   \n",
       "2  EDSQSFjQrrD56led7AvTpQ            mr-pizza-westerly            Mr. Pizza   \n",
       "3  Zyfo5HuK1i1YZCv3U-GvwQ     the-pizza-lady-pawcatuck       The Pizza Lady   \n",
       "4  zgNte7hf2UZsXpTBIoJkJQ     casa-della-luce-westerly      Casa Della Luce   \n",
       "\n",
       "                                           image_url  is_closed  \\\n",
       "0  https://s3-media2.fl.yelpcdn.com/bphoto/Y7v9sw...      False   \n",
       "1  https://s3-media4.fl.yelpcdn.com/bphoto/y0mGE2...      False   \n",
       "2  https://s3-media1.fl.yelpcdn.com/bphoto/_-FNJL...      False   \n",
       "3  https://s3-media1.fl.yelpcdn.com/bphoto/16ZFRx...      False   \n",
       "4  https://s3-media1.fl.yelpcdn.com/bphoto/oAIn8p...      False   \n",
       "\n",
       "                                                 url  review_count  \\\n",
       "0  https://www.yelp.com/biz/main-street-pizza-ash...            29   \n",
       "1  https://www.yelp.com/biz/vittorias-ny-pizza-we...            67   \n",
       "2  https://www.yelp.com/biz/mr-pizza-westerly?adj...            18   \n",
       "3  https://www.yelp.com/biz/the-pizza-lady-pawcat...            37   \n",
       "4  https://www.yelp.com/biz/casa-della-luce-weste...           143   \n",
       "\n",
       "                                          categories  rating  \\\n",
       "0             [{'alias': 'pizza', 'title': 'Pizza'}]     3.5   \n",
       "1             [{'alias': 'pizza', 'title': 'Pizza'}]     4.0   \n",
       "2  [{'alias': 'pizza', 'title': 'Pizza'}, {'alias...     4.5   \n",
       "3  [{'alias': 'pizza', 'title': 'Pizza'}, {'alias...     4.0   \n",
       "4  [{'alias': 'italian', 'title': 'Italian'}, {'a...     4.0   \n",
       "\n",
       "                                         coordinates transactions price  \\\n",
       "0   {'latitude': 41.427066, 'longitude': -71.784767}           []     $   \n",
       "1  {'latitude': 41.351879, 'longitude': -71.7709944}   [delivery]    $$   \n",
       "2  {'latitude': 41.36617, 'longitude': -71.830403...   [delivery]   NaN   \n",
       "3   {'latitude': 41.379569, 'longitude': -71.836204}   [delivery]     $   \n",
       "4   {'latitude': 41.360386, 'longitude': -71.811803}   [delivery]    $$   \n",
       "\n",
       "                                            location         phone  \\\n",
       "0  {'address1': '229 Main', 'address2': None, 'ad...  +14013776860   \n",
       "1  {'address1': '224 Post Rd', 'address2': 'Ste 3...  +14013221901   \n",
       "2  {'address1': '49 Beach St', 'address2': None, ...  +14015967698   \n",
       "3  {'address1': '50 Liberty St', 'address2': None...  +18605991113   \n",
       "4  {'address1': '105 Franklin St', 'address2': ''...  +14016374575   \n",
       "\n",
       "    display_phone     distance  \n",
       "0  (401) 377-6860  1784.570861  \n",
       "1  (401) 322-1901  8460.528206  \n",
       "2  (401) 596-7698  8839.788579  \n",
       "3  (860) 599-1113  8098.993882  \n",
       "4  (401) 637-4575  8510.303267  "
      ]
     },
     "metadata": {},
     "output_type": "display_data"
    },
    {
     "data": {
      "text/html": [
       "<div>\n",
       "<style scoped>\n",
       "    .dataframe tbody tr th:only-of-type {\n",
       "        vertical-align: middle;\n",
       "    }\n",
       "\n",
       "    .dataframe tbody tr th {\n",
       "        vertical-align: top;\n",
       "    }\n",
       "\n",
       "    .dataframe thead th {\n",
       "        text-align: right;\n",
       "    }\n",
       "</style>\n",
       "<table border=\"1\" class=\"dataframe\">\n",
       "  <thead>\n",
       "    <tr style=\"text-align: right;\">\n",
       "      <th></th>\n",
       "      <th>id</th>\n",
       "      <th>alias</th>\n",
       "      <th>name</th>\n",
       "      <th>image_url</th>\n",
       "      <th>is_closed</th>\n",
       "      <th>url</th>\n",
       "      <th>review_count</th>\n",
       "      <th>categories</th>\n",
       "      <th>rating</th>\n",
       "      <th>coordinates</th>\n",
       "      <th>transactions</th>\n",
       "      <th>price</th>\n",
       "      <th>location</th>\n",
       "      <th>phone</th>\n",
       "      <th>display_phone</th>\n",
       "      <th>distance</th>\n",
       "    </tr>\n",
       "  </thead>\n",
       "  <tbody>\n",
       "    <tr>\n",
       "      <th>113</th>\n",
       "      <td>4iPrkrivosySWnUao6mv-g</td>\n",
       "      <td>high-rollers-luxury-lanes-and-sports-lounge-ma...</td>\n",
       "      <td>High Rollers Luxury Lanes &amp; Sports Lounge</td>\n",
       "      <td>https://s3-media2.fl.yelpcdn.com/bphoto/iENGJd...</td>\n",
       "      <td>False</td>\n",
       "      <td>https://www.yelp.com/biz/high-rollers-luxury-l...</td>\n",
       "      <td>133</td>\n",
       "      <td>[{'alias': 'bowling', 'title': 'Bowling'}, {'a...</td>\n",
       "      <td>3.5</td>\n",
       "      <td>{'latitude': 41.473964, 'longitude': -71.960782}</td>\n",
       "      <td>[]</td>\n",
       "      <td>$$</td>\n",
       "      <td>{'address1': '350 Trolley Line Blvd', 'address...</td>\n",
       "      <td>+18603122695</td>\n",
       "      <td>(860) 312-2695</td>\n",
       "      <td>17235.746302</td>\n",
       "    </tr>\n",
       "    <tr>\n",
       "      <th>114</th>\n",
       "      <td>KAYnFEZLlgdPlS15SGJIMw</td>\n",
       "      <td>steak-loft-restaurant-mystic</td>\n",
       "      <td>Steak Loft Restaurant</td>\n",
       "      <td>https://s3-media1.fl.yelpcdn.com/bphoto/90SW9l...</td>\n",
       "      <td>False</td>\n",
       "      <td>https://www.yelp.com/biz/steak-loft-restaurant...</td>\n",
       "      <td>345</td>\n",
       "      <td>[{'alias': 'seafood', 'title': 'Seafood'}, {'a...</td>\n",
       "      <td>3.0</td>\n",
       "      <td>{'latitude': 41.3731719941441, 'longitude': -7...</td>\n",
       "      <td>[delivery]</td>\n",
       "      <td>$$</td>\n",
       "      <td>{'address1': '27 Coogan Blvd 24', 'address2': ...</td>\n",
       "      <td>+18605362661</td>\n",
       "      <td>(860) 536-2661</td>\n",
       "      <td>17420.300422</td>\n",
       "    </tr>\n",
       "    <tr>\n",
       "      <th>115</th>\n",
       "      <td>MVvT5HTMBa3RpIxQnJcepA</td>\n",
       "      <td>rainmaker-buffet-mashantucket-4</td>\n",
       "      <td>Rainmaker Buffet</td>\n",
       "      <td>https://s3-media2.fl.yelpcdn.com/bphoto/l4Xz1o...</td>\n",
       "      <td>False</td>\n",
       "      <td>https://www.yelp.com/biz/rainmaker-buffet-mash...</td>\n",
       "      <td>60</td>\n",
       "      <td>[{'alias': 'buffets', 'title': 'Buffets'}]</td>\n",
       "      <td>2.5</td>\n",
       "      <td>{'latitude': 41.47338533, 'longitude': -71.959...</td>\n",
       "      <td>[]</td>\n",
       "      <td>$$</td>\n",
       "      <td>{'address1': '350 Trolley Line Blvd', 'address...</td>\n",
       "      <td></td>\n",
       "      <td></td>\n",
       "      <td>17153.122078</td>\n",
       "    </tr>\n",
       "    <tr>\n",
       "      <th>116</th>\n",
       "      <td>zeb7QrrsbgcY-F0rmGybyw</td>\n",
       "      <td>veranda-cafe-mashantucket</td>\n",
       "      <td>Veranda Cafe</td>\n",
       "      <td>https://s3-media3.fl.yelpcdn.com/bphoto/NvxEbv...</td>\n",
       "      <td>False</td>\n",
       "      <td>https://www.yelp.com/biz/veranda-cafe-mashantu...</td>\n",
       "      <td>84</td>\n",
       "      <td>[{'alias': 'breakfast_brunch', 'title': 'Break...</td>\n",
       "      <td>2.5</td>\n",
       "      <td>{'latitude': 41.4739246, 'longitude': -71.9612...</td>\n",
       "      <td>[delivery]</td>\n",
       "      <td>$$</td>\n",
       "      <td>{'address1': '350 Trolley Line Blvd', 'address...</td>\n",
       "      <td>+18003699663</td>\n",
       "      <td>(800) 369-9663</td>\n",
       "      <td>17268.675038</td>\n",
       "    </tr>\n",
       "    <tr>\n",
       "      <th>117</th>\n",
       "      <td>8BNwIfYSksfO1ljCkaie5A</td>\n",
       "      <td>shrine-restaurant-ledyard</td>\n",
       "      <td>Shrine Restaurant</td>\n",
       "      <td>https://s3-media1.fl.yelpcdn.com/bphoto/m0jgig...</td>\n",
       "      <td>False</td>\n",
       "      <td>https://www.yelp.com/biz/shrine-restaurant-led...</td>\n",
       "      <td>71</td>\n",
       "      <td>[{'alias': 'lounges', 'title': 'Lounges'}, {'a...</td>\n",
       "      <td>2.5</td>\n",
       "      <td>{'latitude': 41.47354, 'longitude': -71.9573}</td>\n",
       "      <td>[]</td>\n",
       "      <td>$$$</td>\n",
       "      <td>{'address1': '39 Norwich Westerly Rd', 'addres...</td>\n",
       "      <td>+18603128888</td>\n",
       "      <td>(860) 312-8888</td>\n",
       "      <td>17148.038383</td>\n",
       "    </tr>\n",
       "  </tbody>\n",
       "</table>\n",
       "</div>"
      ],
      "text/plain": [
       "                         id  \\\n",
       "113  4iPrkrivosySWnUao6mv-g   \n",
       "114  KAYnFEZLlgdPlS15SGJIMw   \n",
       "115  MVvT5HTMBa3RpIxQnJcepA   \n",
       "116  zeb7QrrsbgcY-F0rmGybyw   \n",
       "117  8BNwIfYSksfO1ljCkaie5A   \n",
       "\n",
       "                                                 alias  \\\n",
       "113  high-rollers-luxury-lanes-and-sports-lounge-ma...   \n",
       "114                       steak-loft-restaurant-mystic   \n",
       "115                    rainmaker-buffet-mashantucket-4   \n",
       "116                          veranda-cafe-mashantucket   \n",
       "117                          shrine-restaurant-ledyard   \n",
       "\n",
       "                                          name  \\\n",
       "113  High Rollers Luxury Lanes & Sports Lounge   \n",
       "114                      Steak Loft Restaurant   \n",
       "115                           Rainmaker Buffet   \n",
       "116                               Veranda Cafe   \n",
       "117                          Shrine Restaurant   \n",
       "\n",
       "                                             image_url  is_closed  \\\n",
       "113  https://s3-media2.fl.yelpcdn.com/bphoto/iENGJd...      False   \n",
       "114  https://s3-media1.fl.yelpcdn.com/bphoto/90SW9l...      False   \n",
       "115  https://s3-media2.fl.yelpcdn.com/bphoto/l4Xz1o...      False   \n",
       "116  https://s3-media3.fl.yelpcdn.com/bphoto/NvxEbv...      False   \n",
       "117  https://s3-media1.fl.yelpcdn.com/bphoto/m0jgig...      False   \n",
       "\n",
       "                                                   url  review_count  \\\n",
       "113  https://www.yelp.com/biz/high-rollers-luxury-l...           133   \n",
       "114  https://www.yelp.com/biz/steak-loft-restaurant...           345   \n",
       "115  https://www.yelp.com/biz/rainmaker-buffet-mash...            60   \n",
       "116  https://www.yelp.com/biz/veranda-cafe-mashantu...            84   \n",
       "117  https://www.yelp.com/biz/shrine-restaurant-led...            71   \n",
       "\n",
       "                                            categories  rating  \\\n",
       "113  [{'alias': 'bowling', 'title': 'Bowling'}, {'a...     3.5   \n",
       "114  [{'alias': 'seafood', 'title': 'Seafood'}, {'a...     3.0   \n",
       "115         [{'alias': 'buffets', 'title': 'Buffets'}]     2.5   \n",
       "116  [{'alias': 'breakfast_brunch', 'title': 'Break...     2.5   \n",
       "117  [{'alias': 'lounges', 'title': 'Lounges'}, {'a...     2.5   \n",
       "\n",
       "                                           coordinates transactions price  \\\n",
       "113   {'latitude': 41.473964, 'longitude': -71.960782}           []    $$   \n",
       "114  {'latitude': 41.3731719941441, 'longitude': -7...   [delivery]    $$   \n",
       "115  {'latitude': 41.47338533, 'longitude': -71.959...           []    $$   \n",
       "116  {'latitude': 41.4739246, 'longitude': -71.9612...   [delivery]    $$   \n",
       "117      {'latitude': 41.47354, 'longitude': -71.9573}           []   $$$   \n",
       "\n",
       "                                              location         phone  \\\n",
       "113  {'address1': '350 Trolley Line Blvd', 'address...  +18603122695   \n",
       "114  {'address1': '27 Coogan Blvd 24', 'address2': ...  +18605362661   \n",
       "115  {'address1': '350 Trolley Line Blvd', 'address...                 \n",
       "116  {'address1': '350 Trolley Line Blvd', 'address...  +18003699663   \n",
       "117  {'address1': '39 Norwich Westerly Rd', 'addres...  +18603128888   \n",
       "\n",
       "      display_phone      distance  \n",
       "113  (860) 312-2695  17235.746302  \n",
       "114  (860) 536-2661  17420.300422  \n",
       "115                  17153.122078  \n",
       "116  (800) 369-9663  17268.675038  \n",
       "117  (860) 312-8888  17148.038383  "
      ]
     },
     "metadata": {},
     "output_type": "display_data"
    }
   ],
   "source": [
    "# Loading 'results in progress' json file into a dataframe\n",
    "final_df = pd.read_json(JSON_FILE)\n",
    "display(final_df.head(), final_df.tail())"
   ]
  },
  {
   "cell_type": "code",
   "execution_count": 93,
   "id": "1b3850cd",
   "metadata": {},
   "outputs": [
    {
     "data": {
      "text/plain": [
       "0"
      ]
     },
     "execution_count": 93,
     "metadata": {},
     "output_type": "execute_result"
    }
   ],
   "source": [
    "# Checking for duplicates\n",
    "final_df.duplicated(subset='id').sum()"
   ]
  },
  {
   "cell_type": "code",
   "execution_count": 94,
   "id": "53a983c5",
   "metadata": {},
   "outputs": [],
   "source": [
    "# Saving final Dataframe to a .csv file\n",
    "final_df.to_csv('Data/final_results_Pizza.csv.gz', compression='gzip', index=False)"
   ]
  },
  {
   "cell_type": "code",
   "execution_count": null,
   "id": "1c430141",
   "metadata": {},
   "outputs": [],
   "source": []
  }
 ],
 "metadata": {
  "kernelspec": {
   "display_name": "Python (dojo-env)",
   "language": "python",
   "name": "dojo-env"
  },
  "language_info": {
   "codemirror_mode": {
    "name": "ipython",
    "version": 3
   },
   "file_extension": ".py",
   "mimetype": "text/x-python",
   "name": "python",
   "nbconvert_exporter": "python",
   "pygments_lexer": "ipython3",
   "version": "3.7.12"
  },
  "toc": {
   "base_numbering": 1,
   "nav_menu": {},
   "number_sections": true,
   "sideBar": true,
   "skip_h1_title": false,
   "title_cell": "Table of Contents",
   "title_sidebar": "Contents",
   "toc_cell": false,
   "toc_position": {},
   "toc_section_display": true,
   "toc_window_display": false
  }
 },
 "nbformat": 4,
 "nbformat_minor": 5
}
