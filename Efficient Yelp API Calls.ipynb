{
 "cells": [
  {
   "cell_type": "markdown",
   "id": "24ffdcf7",
   "metadata": {},
   "source": [
    "# Effictient Yelp API Calls (CORE)\n",
    "\n",
    "**Marco Jimenez 6/3/2022**"
   ]
  },
  {
   "cell_type": "code",
   "execution_count": 69,
   "id": "78727bb8",
   "metadata": {},
   "outputs": [],
   "source": [
    "# Standard Imports\n",
    "import numpy as np\n",
    "import pandas as pd\n",
    "import matplotlib.pyplot as plt\n",
    "import seaborn as sns\n",
    "# Additional Imports\n",
    "import os, json, math, time\n",
    "from yelpapi import YelpAPI\n",
    "from tqdm.notebook import tqdm_notebook"
   ]
  },
  {
   "cell_type": "code",
   "execution_count": 70,
   "id": "c3affe48",
   "metadata": {},
   "outputs": [
    {
     "data": {
      "text/plain": [
       "dict_keys(['client id', 'API key'])"
      ]
     },
     "execution_count": 70,
     "metadata": {},
     "output_type": "execute_result"
    }
   ],
   "source": [
    "# Loading API Credentials\n",
    "with open('/Users/LP-Ca/.secret/yelp_api.json') as f:\n",
    "    creds = json.load(f)\n",
    "creds.keys()"
   ]
  },
  {
   "cell_type": "code",
   "execution_count": 71,
   "id": "0b21b200",
   "metadata": {},
   "outputs": [
    {
     "data": {
      "text/plain": [
       "<yelpapi.yelpapi.YelpAPI at 0x1fffc261d08>"
      ]
     },
     "execution_count": 71,
     "metadata": {},
     "output_type": "execute_result"
    }
   ],
   "source": [
    "# Instantiating YelpAPI Variable\n",
    "yelp_api = YelpAPI(creds['API key'], timeout_s=5.0)\n",
    "yelp_api"
   ]
  },
  {
   "cell_type": "code",
   "execution_count": 72,
   "id": "e1523d8b",
   "metadata": {},
   "outputs": [],
   "source": [
    "# Defining variables for search conditions\n",
    "LOCATION = 'Westerly, RI,02804'\n",
    "TERM = 'Pizza'"
   ]
  },
  {
   "cell_type": "markdown",
   "id": "792d00ff",
   "metadata": {},
   "source": [
    "**Creating results-in-progress JSON file**"
   ]
  },
  {
   "cell_type": "code",
   "execution_count": 73,
   "id": "fbe972a8",
   "metadata": {},
   "outputs": [
    {
     "data": {
      "text/plain": [
       "'Data/results_in_progress_Pizza.json'"
      ]
     },
     "execution_count": 73,
     "metadata": {},
     "output_type": "execute_result"
    }
   ],
   "source": [
    "JSON_FILE = f\"Data/results_in_progress_Pizza.json\"\n",
    "JSON_FILE"
   ]
  },
  {
   "cell_type": "code",
   "execution_count": 74,
   "id": "c5993c96",
   "metadata": {},
   "outputs": [
    {
     "name": "stdout",
     "output_type": "stream",
     "text": [
      "[i] Data/results_in_progress_Pizza.json already exists.\n"
     ]
    }
   ],
   "source": [
    "# Checking if JSON_FILE exists\n",
    "file_exists = os.path.isfile(JSON_FILE)\n",
    "# For loop in case it does not exist\n",
    "if file_exists == False:\n",
    "    # Getting folder name\n",
    "    folder = os.path.dirname(JSON_FILE)\n",
    "    # If JSON_FILE is included in folder:\n",
    "    if len(folder)>0:\n",
    "        # Create folder\n",
    "        os.makedirs(folder, exist_ok=True)\n",
    "    print(f\"[i] {JSON_FILE} not found. Saving empty list to file\")       \n",
    "        \n",
    "    # Saving first page of results\n",
    "    with open(JSON_FILE,'w') as f:\n",
    "        json.dump([],f)  \n",
    "else:\n",
    "    print(f\"[i] {JSON_FILE} already exists.\")"
   ]
  },
  {
   "cell_type": "code",
   "execution_count": 75,
   "id": "db2f041a",
   "metadata": {},
   "outputs": [
    {
     "name": "stdout",
     "output_type": "stream",
     "text": [
      "- 1000 previous results found.\n"
     ]
    }
   ],
   "source": [
    "# Loading previous results and using len of results for offset\n",
    "with open(JSON_FILE,'r') as f:\n",
    "    prev_results = json.load(f)\n",
    "    \n",
    "## set offset based on previous results\n",
    "n_results = len(prev_results)\n",
    "print(f'- {n_results} previous results found.')"
   ]
  },
  {
   "cell_type": "markdown",
   "id": "0a9ff1ef",
   "metadata": {},
   "source": [
    "**Figuring out required number of pages**"
   ]
  },
  {
   "cell_type": "code",
   "execution_count": 76,
   "id": "d2988e9a",
   "metadata": {},
   "outputs": [
    {
     "ename": "YelpAPIError",
     "evalue": "VALIDATION_ERROR: Too many results requested, limit+offset must be <= 1000.",
     "output_type": "error",
     "traceback": [
      "\u001b[1;31m---------------------------------------------------------------------------\u001b[0m",
      "\u001b[1;31mYelpAPIError\u001b[0m                              Traceback (most recent call last)",
      "\u001b[1;32m~\\AppData\\Local\\Temp\\ipykernel_16952\\2860996307.py\u001b[0m in \u001b[0;36m<module>\u001b[1;34m\u001b[0m\n\u001b[0;32m      2\u001b[0m results = yelp_api.search_query(location=LOCATION,\n\u001b[0;32m      3\u001b[0m                                \u001b[0mterm\u001b[0m\u001b[1;33m=\u001b[0m\u001b[0mTERM\u001b[0m\u001b[1;33m,\u001b[0m\u001b[1;33m\u001b[0m\u001b[1;33m\u001b[0m\u001b[0m\n\u001b[1;32m----> 4\u001b[1;33m                                offset=n_results)\n\u001b[0m\u001b[0;32m      5\u001b[0m \u001b[0mresults\u001b[0m\u001b[1;33m.\u001b[0m\u001b[0mkeys\u001b[0m\u001b[1;33m(\u001b[0m\u001b[1;33m)\u001b[0m\u001b[1;33m\u001b[0m\u001b[1;33m\u001b[0m\u001b[0m\n",
      "\u001b[1;32m~\\anaconda3\\envs\\dojo-env\\lib\\site-packages\\yelpapi\\yelpapi.py\u001b[0m in \u001b[0;36msearch_query\u001b[1;34m(self, **kwargs)\u001b[0m\n\u001b[0;32m    232\u001b[0m                              '(parameters \"latitude\" and \"longitude\") must be provided.')\n\u001b[0;32m    233\u001b[0m \u001b[1;33m\u001b[0m\u001b[0m\n\u001b[1;32m--> 234\u001b[1;33m         \u001b[1;32mreturn\u001b[0m \u001b[0mself\u001b[0m\u001b[1;33m.\u001b[0m\u001b[0m_query\u001b[0m\u001b[1;33m(\u001b[0m\u001b[0mSEARCH_API_URL\u001b[0m\u001b[1;33m,\u001b[0m \u001b[1;33m**\u001b[0m\u001b[0mkwargs\u001b[0m\u001b[1;33m)\u001b[0m\u001b[1;33m\u001b[0m\u001b[1;33m\u001b[0m\u001b[0m\n\u001b[0m\u001b[0;32m    235\u001b[0m \u001b[1;33m\u001b[0m\u001b[0m\n\u001b[0;32m    236\u001b[0m     \u001b[1;32mdef\u001b[0m \u001b[0mtransaction_search_query\u001b[0m\u001b[1;33m(\u001b[0m\u001b[0mself\u001b[0m\u001b[1;33m,\u001b[0m \u001b[0mtransaction_type\u001b[0m\u001b[1;33m,\u001b[0m \u001b[1;33m**\u001b[0m\u001b[0mkwargs\u001b[0m\u001b[1;33m)\u001b[0m\u001b[1;33m:\u001b[0m\u001b[1;33m\u001b[0m\u001b[1;33m\u001b[0m\u001b[0m\n",
      "\u001b[1;32m~\\anaconda3\\envs\\dojo-env\\lib\\site-packages\\yelpapi\\yelpapi.py\u001b[0m in \u001b[0;36m_query\u001b[1;34m(self, url, **kwargs)\u001b[0m\n\u001b[0;32m    281\u001b[0m         \u001b[1;32mif\u001b[0m \u001b[1;34m'error'\u001b[0m \u001b[1;32min\u001b[0m \u001b[0mresponse_json\u001b[0m\u001b[1;33m:\u001b[0m\u001b[1;33m\u001b[0m\u001b[1;33m\u001b[0m\u001b[0m\n\u001b[0;32m    282\u001b[0m             raise YelpAPI.YelpAPIError('{}: {}'.format(response_json['error']['code'],\n\u001b[1;32m--> 283\u001b[1;33m                                                        response_json['error']['description']))\n\u001b[0m\u001b[0;32m    284\u001b[0m \u001b[1;33m\u001b[0m\u001b[0m\n\u001b[0;32m    285\u001b[0m         \u001b[1;31m# we got a good response, so return\u001b[0m\u001b[1;33m\u001b[0m\u001b[1;33m\u001b[0m\u001b[1;33m\u001b[0m\u001b[0m\n",
      "\u001b[1;31mYelpAPIError\u001b[0m: VALIDATION_ERROR: Too many results requested, limit+offset must be <= 1000."
     ]
    }
   ],
   "source": [
    "# Performing API call and displayin dict keys\n",
    "results = yelp_api.search_query(location=LOCATION,\n",
    "                               term=TERM,\n",
    "                               offset=n_results)\n",
    "results.keys()"
   ]
  },
  {
   "cell_type": "code",
   "execution_count": null,
   "id": "41c080b3",
   "metadata": {},
   "outputs": [],
   "source": [
    "# Getting total number of results\n",
    "total_results = results['total']\n",
    "total_results"
   ]
  },
  {
   "cell_type": "code",
   "execution_count": null,
   "id": "6487a938",
   "metadata": {},
   "outputs": [],
   "source": [
    "# Getting number of results per page\n",
    "results_per_page = len(results['businesses'])\n",
    "results_per_page"
   ]
  },
  {
   "cell_type": "code",
   "execution_count": null,
   "id": "3447689e",
   "metadata": {},
   "outputs": [],
   "source": [
    "# Getting the number of pages by subtracting n_offset from the total and dividing the remainder by the number of results per page \n",
    "n_pages = math.ceil((results['total']-n_results)/ results_per_page)\n",
    "n_pages"
   ]
  },
  {
   "cell_type": "markdown",
   "id": "b2f521f9",
   "metadata": {},
   "source": [
    "**Adding results to .json file**"
   ]
  },
  {
   "cell_type": "code",
   "execution_count": null,
   "id": "4022911e",
   "metadata": {},
   "outputs": [],
   "source": [
    "prev_results.extend(results['businesses'])\n",
    "with open(JSON_FILE, 'w') as f:\n",
    "     json.dump(prev_results,f)"
   ]
  },
  {
   "cell_type": "markdown",
   "id": "d0d3d397",
   "metadata": {},
   "source": [
    "**For loop to call each page**"
   ]
  },
  {
   "cell_type": "code",
   "execution_count": null,
   "id": "74ef8582",
   "metadata": {},
   "outputs": [],
   "source": [
    "pip install tqdm"
   ]
  },
  {
   "cell_type": "code",
   "execution_count": null,
   "id": "3a5354cb",
   "metadata": {},
   "outputs": [],
   "source": [
    "for i in tqdm_notebook( range(1,n_pages+1)):\n",
    "    time.sleep(.2)\n",
    "    # Reading in results in progress file and checking the length\n",
    "    with open(JSON_FILE, 'r') as f:\n",
    "        prev_results = json.load(f)\n",
    "    # Saving number of results to use as offset\n",
    "    n_results = len(prev_results)\n",
    "    # Using n_results as the offset value \n",
    "    results = yelp_api.search_query(location=LOCATION,\n",
    "                                    term=TERM, \n",
    "                                    offset=n_results)\n",
    "    \n",
    "    # Appending new results and saving to file\n",
    "    prev_results.extend(results['businesses'])\n",
    "    \n",
    "# Displaying previous_results\n",
    "    with open(JSON_FILE,'w') as f:\n",
    "        json.dump(prev_results,f)"
   ]
  },
  {
   "cell_type": "code",
   "execution_count": null,
   "id": "f600d9eb",
   "metadata": {},
   "outputs": [],
   "source": [
    "# Loading 'results in progress' json file into a dataframe\n",
    "final_df = pd.read_json(JSON_FILE)\n",
    "display(final_df.head(), final_df.tail())"
   ]
  },
  {
   "cell_type": "code",
   "execution_count": null,
   "id": "1b3850cd",
   "metadata": {},
   "outputs": [],
   "source": [
    "# Saving final dataframe to a .csv"
   ]
  },
  {
   "cell_type": "code",
   "execution_count": null,
   "id": "7519d493",
   "metadata": {},
   "outputs": [],
   "source": []
  }
 ],
 "metadata": {
  "kernelspec": {
   "display_name": "Python (dojo-env)",
   "language": "python",
   "name": "dojo-env"
  },
  "language_info": {
   "codemirror_mode": {
    "name": "ipython",
    "version": 3
   },
   "file_extension": ".py",
   "mimetype": "text/x-python",
   "name": "python",
   "nbconvert_exporter": "python",
   "pygments_lexer": "ipython3",
   "version": "3.7.12"
  },
  "toc": {
   "base_numbering": 1,
   "nav_menu": {},
   "number_sections": true,
   "sideBar": true,
   "skip_h1_title": false,
   "title_cell": "Table of Contents",
   "title_sidebar": "Contents",
   "toc_cell": false,
   "toc_position": {},
   "toc_section_display": true,
   "toc_window_display": false
  }
 },
 "nbformat": 4,
 "nbformat_minor": 5
}
