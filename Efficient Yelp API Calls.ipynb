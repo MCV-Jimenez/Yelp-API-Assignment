{
 "cells": [
  {
   "cell_type": "markdown",
   "id": "24ffdcf7",
   "metadata": {},
   "source": [
    "# Effictient Yelp API Calls (CORE)\n",
    "\n",
    "**Marco Jimenez 6/3/2022**"
   ]
  },
  {
   "cell_type": "code",
   "execution_count": 59,
   "id": "78727bb8",
   "metadata": {},
   "outputs": [],
   "source": [
    "# Standard Imports\n",
    "import numpy as np\n",
    "import pandas as pd\n",
    "import matplotlib.pyplot as plt\n",
    "import seaborn as sns\n",
    "# Additional Imports\n",
    "import os, json, math, time\n",
    "from yelpapi import YelpAPI\n",
    "from tqdm.notebook import tqdm_notebook"
   ]
  },
  {
   "cell_type": "code",
   "execution_count": 60,
   "id": "c3affe48",
   "metadata": {},
   "outputs": [
    {
     "data": {
      "text/plain": [
       "dict_keys(['client id', 'API key'])"
      ]
     },
     "execution_count": 60,
     "metadata": {},
     "output_type": "execute_result"
    }
   ],
   "source": [
    "# Loading API Credentials\n",
    "with open('/Users/LP-Ca/.secret/yelp_api.json') as f:\n",
    "    creds = json.load(f)\n",
    "creds.keys()"
   ]
  },
  {
   "cell_type": "code",
   "execution_count": 61,
   "id": "0b21b200",
   "metadata": {},
   "outputs": [
    {
     "data": {
      "text/plain": [
       "<yelpapi.yelpapi.YelpAPI at 0x19f7931c108>"
      ]
     },
     "execution_count": 61,
     "metadata": {},
     "output_type": "execute_result"
    }
   ],
   "source": [
    "# Instantiating YelpAPI Variable\n",
    "yelp_api = YelpAPI(creds['API key'], timeout_s=5.0)\n",
    "yelp_api"
   ]
  },
  {
   "cell_type": "code",
   "execution_count": 62,
   "id": "e1523d8b",
   "metadata": {},
   "outputs": [],
   "source": [
    "# Defining variables for search conditions\n",
    "LOCATION = 'Pawcatuck, CT,06379'\n",
    "TERM = 'Pizza'"
   ]
  },
  {
   "cell_type": "markdown",
   "id": "792d00ff",
   "metadata": {},
   "source": [
    "**Creating results-in-progress JSON file**"
   ]
  },
  {
   "cell_type": "code",
   "execution_count": 63,
   "id": "fbe972a8",
   "metadata": {},
   "outputs": [
    {
     "data": {
      "text/plain": [
       "'Data/results_in_progress_Pizza.json'"
      ]
     },
     "execution_count": 63,
     "metadata": {},
     "output_type": "execute_result"
    }
   ],
   "source": [
    "JSON_FILE = f\"Data/results_in_progress_Pizza.json\"\n",
    "JSON_FILE"
   ]
  },
  {
   "cell_type": "code",
   "execution_count": 64,
   "id": "c5993c96",
   "metadata": {},
   "outputs": [
    {
     "name": "stdout",
     "output_type": "stream",
     "text": [
      "[i] Data/results_in_progress_Pizza.json already exists.\n"
     ]
    }
   ],
   "source": [
    "# Checking if JSON_FILE exists\n",
    "file_exists = os.path.isfile(JSON_FILE)\n",
    "# For loop in case it does not exist\n",
    "if file_exists == False:\n",
    "    # Getting folder name\n",
    "    folder = os.path.dirname(JSON_FILE)\n",
    "    # If JSON_FILE is included in folder:\n",
    "    if len(folder)>0:\n",
    "        # Create folder\n",
    "        os.makedirs(folder, exist_ok=True)\n",
    "    print(f\"[i] {JSON_FILE} not found. Saving empty list to file\")       \n",
    "        \n",
    "    # Saving first page of results\n",
    "    with open(JSON_FILE,'w') as f:\n",
    "        json.dump([],f)  \n",
    "else:\n",
    "    print(f\"[i] {JSON_FILE} already exists.\")"
   ]
  },
  {
   "cell_type": "code",
   "execution_count": 65,
   "id": "db2f041a",
   "metadata": {},
   "outputs": [
    {
     "name": "stdout",
     "output_type": "stream",
     "text": [
      "- 40 previous results found.\n"
     ]
    }
   ],
   "source": [
    "# Loading previous results and using len of results for offset\n",
    "with open(JSON_FILE,'r') as f:\n",
    "    prev_results = json.load(f)\n",
    "    \n",
    "## set offset based on previous results\n",
    "n_results = len(prev_results)\n",
    "print(f'- {n_results} previous results found.')"
   ]
  },
  {
   "cell_type": "markdown",
   "id": "0a9ff1ef",
   "metadata": {},
   "source": [
    "**Figuring out required number of pages**"
   ]
  },
  {
   "cell_type": "code",
   "execution_count": 66,
   "id": "d2988e9a",
   "metadata": {},
   "outputs": [
    {
     "data": {
      "text/plain": [
       "dict_keys(['businesses', 'total', 'region'])"
      ]
     },
     "execution_count": 66,
     "metadata": {},
     "output_type": "execute_result"
    }
   ],
   "source": [
    "# Performing API call and displayin dict keys\n",
    "results = yelp_api.search_query(location=LOCATION,\n",
    "                               term=TERM,\n",
    "                               offset=n_results)\n",
    "results.keys()"
   ]
  },
  {
   "cell_type": "code",
   "execution_count": 67,
   "id": "41c080b3",
   "metadata": {},
   "outputs": [
    {
     "data": {
      "text/plain": [
       "35"
      ]
     },
     "execution_count": 67,
     "metadata": {},
     "output_type": "execute_result"
    }
   ],
   "source": [
    "# Getting total number of results\n",
    "total_results = results['total']\n",
    "total_results"
   ]
  },
  {
   "cell_type": "code",
   "execution_count": 75,
   "id": "6487a938",
   "metadata": {},
   "outputs": [
    {
     "data": {
      "text/plain": [
       "0"
      ]
     },
     "execution_count": 75,
     "metadata": {},
     "output_type": "execute_result"
    }
   ],
   "source": [
    "# Getting number of results per page\n",
    "results_per_page = len(results['businesses'])\n",
    "results_per_page"
   ]
  },
  {
   "cell_type": "code",
   "execution_count": 70,
   "id": "3447689e",
   "metadata": {},
   "outputs": [
    {
     "ename": "ZeroDivisionError",
     "evalue": "division by zero",
     "output_type": "error",
     "traceback": [
      "\u001b[1;31m---------------------------------------------------------------------------\u001b[0m",
      "\u001b[1;31mZeroDivisionError\u001b[0m                         Traceback (most recent call last)",
      "\u001b[1;32m~\\AppData\\Local\\Temp\\ipykernel_22296\\3769966549.py\u001b[0m in \u001b[0;36m<module>\u001b[1;34m\u001b[0m\n\u001b[0;32m      1\u001b[0m \u001b[1;31m# Getting the number of pages by subtracting n_offset from the total and dividing the remainder by the number of results per page\u001b[0m\u001b[1;33m\u001b[0m\u001b[1;33m\u001b[0m\u001b[1;33m\u001b[0m\u001b[0m\n\u001b[1;32m----> 2\u001b[1;33m \u001b[0mn_pages\u001b[0m \u001b[1;33m=\u001b[0m \u001b[0mmath\u001b[0m\u001b[1;33m.\u001b[0m\u001b[0mceil\u001b[0m\u001b[1;33m(\u001b[0m\u001b[1;33m(\u001b[0m\u001b[0mresults\u001b[0m\u001b[1;33m[\u001b[0m\u001b[1;34m'total'\u001b[0m\u001b[1;33m]\u001b[0m\u001b[1;33m-\u001b[0m\u001b[0mn_results\u001b[0m\u001b[1;33m)\u001b[0m\u001b[1;33m/\u001b[0m \u001b[0mresults_per_page\u001b[0m\u001b[1;33m)\u001b[0m\u001b[1;33m\u001b[0m\u001b[1;33m\u001b[0m\u001b[0m\n\u001b[0m\u001b[0;32m      3\u001b[0m \u001b[0mn_pages\u001b[0m\u001b[1;33m\u001b[0m\u001b[1;33m\u001b[0m\u001b[0m\n",
      "\u001b[1;31mZeroDivisionError\u001b[0m: division by zero"
     ]
    }
   ],
   "source": [
    "# Getting the number of pages by subtracting n_offset from the total and dividing the remainder by the number of results per page \n",
    "n_pages = math.ceil((results['total']-n_results)/ results_per_page)\n",
    "n_pages"
   ]
  },
  {
   "cell_type": "markdown",
   "id": "b2f521f9",
   "metadata": {},
   "source": [
    "**Adding results to .json file**"
   ]
  },
  {
   "cell_type": "code",
   "execution_count": 71,
   "id": "4022911e",
   "metadata": {},
   "outputs": [],
   "source": [
    "prev_results.extend(results['businesses'])\n",
    "with open(JSON_FILE, 'w') as f:\n",
    "     json.dump(prev_results,f)"
   ]
  },
  {
   "cell_type": "markdown",
   "id": "d0d3d397",
   "metadata": {},
   "source": [
    "**For loop to call each page**"
   ]
  },
  {
   "cell_type": "code",
   "execution_count": 72,
   "id": "74ef8582",
   "metadata": {},
   "outputs": [
    {
     "name": "stdout",
     "output_type": "stream",
     "text": [
      "Requirement already satisfied: tqdm in c:\\users\\lp-ca\\anaconda3\\envs\\dojo-env\\lib\\site-packages (4.64.0)\n",
      "Requirement already satisfied: colorama in c:\\users\\lp-ca\\anaconda3\\envs\\dojo-env\\lib\\site-packages (from tqdm) (0.4.4)\n",
      "Note: you may need to restart the kernel to use updated packages.\n"
     ]
    }
   ],
   "source": [
    "pip install tqdm\n"
   ]
  },
  {
   "cell_type": "code",
   "execution_count": 73,
   "id": "3a5354cb",
   "metadata": {},
   "outputs": [
    {
     "data": {
      "application/vnd.jupyter.widget-view+json": {
       "model_id": "f8100be00cf241598435c4f91a7d9995",
       "version_major": 2,
       "version_minor": 0
      },
      "text/plain": [
       "  0%|          | 0/2 [00:00<?, ?it/s]"
      ]
     },
     "metadata": {},
     "output_type": "display_data"
    }
   ],
   "source": [
    "for i in tqdm_notebook( range(1,n_pages+1)):\n",
    "    time.sleep(.2)\n",
    "    # Reading in results in progress file and checking the length\n",
    "    with open(JSON_FILE, 'r') as f:\n",
    "        prev_results = json.load(f)\n",
    "    # Saving number of results to use as offset\n",
    "    n_results = len(prev_results)\n",
    "    # Using n_results as the offset value \n",
    "    results = yelp_api.search_query(location=LOCATION,\n",
    "                                    term=TERM, \n",
    "                                    offset=n_results)\n",
    "    \n",
    "    # Appending new results and saving to file\n",
    "    prev_results.extend(results['businesses'])\n",
    "    \n",
    "# Displaying previous_results\n",
    "    with open(JSON_FILE,'w') as f:\n",
    "        json.dump(prev_results,f)"
   ]
  },
  {
   "cell_type": "code",
   "execution_count": 74,
   "id": "f600d9eb",
   "metadata": {},
   "outputs": [
    {
     "data": {
      "text/html": [
       "<div>\n",
       "<style scoped>\n",
       "    .dataframe tbody tr th:only-of-type {\n",
       "        vertical-align: middle;\n",
       "    }\n",
       "\n",
       "    .dataframe tbody tr th {\n",
       "        vertical-align: top;\n",
       "    }\n",
       "\n",
       "    .dataframe thead th {\n",
       "        text-align: right;\n",
       "    }\n",
       "</style>\n",
       "<table border=\"1\" class=\"dataframe\">\n",
       "  <thead>\n",
       "    <tr style=\"text-align: right;\">\n",
       "      <th></th>\n",
       "      <th>id</th>\n",
       "      <th>alias</th>\n",
       "      <th>name</th>\n",
       "      <th>image_url</th>\n",
       "      <th>is_closed</th>\n",
       "      <th>url</th>\n",
       "      <th>review_count</th>\n",
       "      <th>categories</th>\n",
       "      <th>rating</th>\n",
       "      <th>coordinates</th>\n",
       "      <th>transactions</th>\n",
       "      <th>price</th>\n",
       "      <th>location</th>\n",
       "      <th>phone</th>\n",
       "      <th>display_phone</th>\n",
       "      <th>distance</th>\n",
       "    </tr>\n",
       "  </thead>\n",
       "  <tbody>\n",
       "    <tr>\n",
       "      <th>0</th>\n",
       "      <td>Zyfo5HuK1i1YZCv3U-GvwQ</td>\n",
       "      <td>the-pizza-lady-pawcatuck</td>\n",
       "      <td>The Pizza Lady</td>\n",
       "      <td>https://s3-media1.fl.yelpcdn.com/bphoto/16ZFRx...</td>\n",
       "      <td>False</td>\n",
       "      <td>https://www.yelp.com/biz/the-pizza-lady-pawcat...</td>\n",
       "      <td>37</td>\n",
       "      <td>[{'alias': 'pizza', 'title': 'Pizza'}, {'alias...</td>\n",
       "      <td>4.0</td>\n",
       "      <td>{'latitude': 41.379569, 'longitude': -71.836204}</td>\n",
       "      <td>[delivery]</td>\n",
       "      <td>$</td>\n",
       "      <td>{'address1': '50 Liberty St', 'address2': None...</td>\n",
       "      <td>+18605991113</td>\n",
       "      <td>(860) 599-1113</td>\n",
       "      <td>1169.704382</td>\n",
       "    </tr>\n",
       "    <tr>\n",
       "      <th>1</th>\n",
       "      <td>kNOjDM10zI0RvNEmThKmrA</td>\n",
       "      <td>pizzaplace-westerly-2</td>\n",
       "      <td>PizzaPlace</td>\n",
       "      <td>https://s3-media2.fl.yelpcdn.com/bphoto/S6ByHQ...</td>\n",
       "      <td>False</td>\n",
       "      <td>https://www.yelp.com/biz/pizzaplace-westerly-2...</td>\n",
       "      <td>121</td>\n",
       "      <td>[{'alias': 'pizza', 'title': 'Pizza'}]</td>\n",
       "      <td>4.0</td>\n",
       "      <td>{'latitude': 41.376953, 'longitude': -71.830095}</td>\n",
       "      <td>[delivery]</td>\n",
       "      <td>$$</td>\n",
       "      <td>{'address1': '43 Broad St', 'address2': '', 'a...</td>\n",
       "      <td>+14013481803</td>\n",
       "      <td>(401) 348-1803</td>\n",
       "      <td>1657.997341</td>\n",
       "    </tr>\n",
       "    <tr>\n",
       "      <th>2</th>\n",
       "      <td>EDSQSFjQrrD56led7AvTpQ</td>\n",
       "      <td>mr-pizza-westerly</td>\n",
       "      <td>Mr. Pizza</td>\n",
       "      <td>https://s3-media1.fl.yelpcdn.com/bphoto/_-FNJL...</td>\n",
       "      <td>False</td>\n",
       "      <td>https://www.yelp.com/biz/mr-pizza-westerly?adj...</td>\n",
       "      <td>18</td>\n",
       "      <td>[{'alias': 'pizza', 'title': 'Pizza'}, {'alias...</td>\n",
       "      <td>4.5</td>\n",
       "      <td>{'latitude': 41.36617, 'longitude': -71.830403...</td>\n",
       "      <td>[delivery]</td>\n",
       "      <td>NaN</td>\n",
       "      <td>{'address1': '49 Beach St', 'address2': None, ...</td>\n",
       "      <td>+14015967698</td>\n",
       "      <td>(401) 596-7698</td>\n",
       "      <td>2045.493602</td>\n",
       "    </tr>\n",
       "    <tr>\n",
       "      <th>3</th>\n",
       "      <td>5QQdidOV8ye4eZksu3k45A</td>\n",
       "      <td>nanas-bakery-and-pizza-westerly</td>\n",
       "      <td>Nana's Bakery &amp; Pizza</td>\n",
       "      <td>https://s3-media4.fl.yelpcdn.com/bphoto/pq8-t7...</td>\n",
       "      <td>False</td>\n",
       "      <td>https://www.yelp.com/biz/nanas-bakery-and-pizz...</td>\n",
       "      <td>7</td>\n",
       "      <td>[{'alias': 'bakeries', 'title': 'Bakeries'}, {...</td>\n",
       "      <td>5.0</td>\n",
       "      <td>{'latitude': 41.37971, 'longitude': -71.82931}</td>\n",
       "      <td>[]</td>\n",
       "      <td>NaN</td>\n",
       "      <td>{'address1': '82 High St Grd Flr', 'address2':...</td>\n",
       "      <td>+14012133911</td>\n",
       "      <td>(401) 213-3911</td>\n",
       "      <td>1733.837858</td>\n",
       "    </tr>\n",
       "    <tr>\n",
       "      <th>4</th>\n",
       "      <td>zgNte7hf2UZsXpTBIoJkJQ</td>\n",
       "      <td>casa-della-luce-westerly</td>\n",
       "      <td>Casa Della Luce</td>\n",
       "      <td>https://s3-media1.fl.yelpcdn.com/bphoto/oAIn8p...</td>\n",
       "      <td>False</td>\n",
       "      <td>https://www.yelp.com/biz/casa-della-luce-weste...</td>\n",
       "      <td>143</td>\n",
       "      <td>[{'alias': 'italian', 'title': 'Italian'}, {'a...</td>\n",
       "      <td>4.0</td>\n",
       "      <td>{'latitude': 41.360386, 'longitude': -71.811803}</td>\n",
       "      <td>[delivery]</td>\n",
       "      <td>$$</td>\n",
       "      <td>{'address1': '105 Franklin St', 'address2': ''...</td>\n",
       "      <td>+14016374575</td>\n",
       "      <td>(401) 637-4575</td>\n",
       "      <td>3694.928666</td>\n",
       "    </tr>\n",
       "  </tbody>\n",
       "</table>\n",
       "</div>"
      ],
      "text/plain": [
       "                       id                            alias  \\\n",
       "0  Zyfo5HuK1i1YZCv3U-GvwQ         the-pizza-lady-pawcatuck   \n",
       "1  kNOjDM10zI0RvNEmThKmrA            pizzaplace-westerly-2   \n",
       "2  EDSQSFjQrrD56led7AvTpQ                mr-pizza-westerly   \n",
       "3  5QQdidOV8ye4eZksu3k45A  nanas-bakery-and-pizza-westerly   \n",
       "4  zgNte7hf2UZsXpTBIoJkJQ         casa-della-luce-westerly   \n",
       "\n",
       "                    name                                          image_url  \\\n",
       "0         The Pizza Lady  https://s3-media1.fl.yelpcdn.com/bphoto/16ZFRx...   \n",
       "1             PizzaPlace  https://s3-media2.fl.yelpcdn.com/bphoto/S6ByHQ...   \n",
       "2              Mr. Pizza  https://s3-media1.fl.yelpcdn.com/bphoto/_-FNJL...   \n",
       "3  Nana's Bakery & Pizza  https://s3-media4.fl.yelpcdn.com/bphoto/pq8-t7...   \n",
       "4        Casa Della Luce  https://s3-media1.fl.yelpcdn.com/bphoto/oAIn8p...   \n",
       "\n",
       "   is_closed                                                url  review_count  \\\n",
       "0      False  https://www.yelp.com/biz/the-pizza-lady-pawcat...            37   \n",
       "1      False  https://www.yelp.com/biz/pizzaplace-westerly-2...           121   \n",
       "2      False  https://www.yelp.com/biz/mr-pizza-westerly?adj...            18   \n",
       "3      False  https://www.yelp.com/biz/nanas-bakery-and-pizz...             7   \n",
       "4      False  https://www.yelp.com/biz/casa-della-luce-weste...           143   \n",
       "\n",
       "                                          categories  rating  \\\n",
       "0  [{'alias': 'pizza', 'title': 'Pizza'}, {'alias...     4.0   \n",
       "1             [{'alias': 'pizza', 'title': 'Pizza'}]     4.0   \n",
       "2  [{'alias': 'pizza', 'title': 'Pizza'}, {'alias...     4.5   \n",
       "3  [{'alias': 'bakeries', 'title': 'Bakeries'}, {...     5.0   \n",
       "4  [{'alias': 'italian', 'title': 'Italian'}, {'a...     4.0   \n",
       "\n",
       "                                         coordinates transactions price  \\\n",
       "0   {'latitude': 41.379569, 'longitude': -71.836204}   [delivery]     $   \n",
       "1   {'latitude': 41.376953, 'longitude': -71.830095}   [delivery]    $$   \n",
       "2  {'latitude': 41.36617, 'longitude': -71.830403...   [delivery]   NaN   \n",
       "3     {'latitude': 41.37971, 'longitude': -71.82931}           []   NaN   \n",
       "4   {'latitude': 41.360386, 'longitude': -71.811803}   [delivery]    $$   \n",
       "\n",
       "                                            location         phone  \\\n",
       "0  {'address1': '50 Liberty St', 'address2': None...  +18605991113   \n",
       "1  {'address1': '43 Broad St', 'address2': '', 'a...  +14013481803   \n",
       "2  {'address1': '49 Beach St', 'address2': None, ...  +14015967698   \n",
       "3  {'address1': '82 High St Grd Flr', 'address2':...  +14012133911   \n",
       "4  {'address1': '105 Franklin St', 'address2': ''...  +14016374575   \n",
       "\n",
       "    display_phone     distance  \n",
       "0  (860) 599-1113  1169.704382  \n",
       "1  (401) 348-1803  1657.997341  \n",
       "2  (401) 596-7698  2045.493602  \n",
       "3  (401) 213-3911  1733.837858  \n",
       "4  (401) 637-4575  3694.928666  "
      ]
     },
     "metadata": {},
     "output_type": "display_data"
    },
    {
     "data": {
      "text/html": [
       "<div>\n",
       "<style scoped>\n",
       "    .dataframe tbody tr th:only-of-type {\n",
       "        vertical-align: middle;\n",
       "    }\n",
       "\n",
       "    .dataframe tbody tr th {\n",
       "        vertical-align: top;\n",
       "    }\n",
       "\n",
       "    .dataframe thead th {\n",
       "        text-align: right;\n",
       "    }\n",
       "</style>\n",
       "<table border=\"1\" class=\"dataframe\">\n",
       "  <thead>\n",
       "    <tr style=\"text-align: right;\">\n",
       "      <th></th>\n",
       "      <th>id</th>\n",
       "      <th>alias</th>\n",
       "      <th>name</th>\n",
       "      <th>image_url</th>\n",
       "      <th>is_closed</th>\n",
       "      <th>url</th>\n",
       "      <th>review_count</th>\n",
       "      <th>categories</th>\n",
       "      <th>rating</th>\n",
       "      <th>coordinates</th>\n",
       "      <th>transactions</th>\n",
       "      <th>price</th>\n",
       "      <th>location</th>\n",
       "      <th>phone</th>\n",
       "      <th>display_phone</th>\n",
       "      <th>distance</th>\n",
       "    </tr>\n",
       "  </thead>\n",
       "  <tbody>\n",
       "    <tr>\n",
       "      <th>35</th>\n",
       "      <td>K-J1GXPvYtLMZDhT97eQBg</td>\n",
       "      <td>longo-ristorante-and-pizzeria-westerly</td>\n",
       "      <td>Longo Ristorante &amp; Pizzeria</td>\n",
       "      <td>https://s3-media2.fl.yelpcdn.com/bphoto/taf49q...</td>\n",
       "      <td>False</td>\n",
       "      <td>https://www.yelp.com/biz/longo-ristorante-and-...</td>\n",
       "      <td>56</td>\n",
       "      <td>[{'alias': 'italian', 'title': 'Italian'}, {'a...</td>\n",
       "      <td>4.0</td>\n",
       "      <td>{'latitude': 41.379771, 'longitude': -71.829123}</td>\n",
       "      <td>[delivery]</td>\n",
       "      <td>$$</td>\n",
       "      <td>{'address1': '84 High St', 'address2': '', 'ad...</td>\n",
       "      <td>+14013150881</td>\n",
       "      <td>(401) 315-0881</td>\n",
       "      <td>1751.562612</td>\n",
       "    </tr>\n",
       "    <tr>\n",
       "      <th>36</th>\n",
       "      <td>HB6DPAR6s7QA0a0ZDFk8Fw</td>\n",
       "      <td>ritaccos-market-westerly</td>\n",
       "      <td>Ritacco's Market</td>\n",
       "      <td>https://s3-media3.fl.yelpcdn.com/bphoto/Psznan...</td>\n",
       "      <td>False</td>\n",
       "      <td>https://www.yelp.com/biz/ritaccos-market-weste...</td>\n",
       "      <td>7</td>\n",
       "      <td>[{'alias': 'grocery', 'title': 'Grocery'}, {'a...</td>\n",
       "      <td>5.0</td>\n",
       "      <td>{'latitude': 41.383861, 'longitude': -71.815867}</td>\n",
       "      <td>[delivery]</td>\n",
       "      <td>$$</td>\n",
       "      <td>{'address1': '84 Oak St', 'address2': '', 'add...</td>\n",
       "      <td>+14015961835</td>\n",
       "      <td>(401) 596-1835</td>\n",
       "      <td>2932.566994</td>\n",
       "    </tr>\n",
       "    <tr>\n",
       "      <th>37</th>\n",
       "      <td>_iYvpGfCwqMa3iMMIypT1Q</td>\n",
       "      <td>supreme-cheese-pizzeria-and-ristorante-westerly-2</td>\n",
       "      <td>Supreme Cheese Pizzeria &amp; Ristorante</td>\n",
       "      <td>https://s3-media4.fl.yelpcdn.com/bphoto/22yh-8...</td>\n",
       "      <td>False</td>\n",
       "      <td>https://www.yelp.com/biz/supreme-cheese-pizzer...</td>\n",
       "      <td>44</td>\n",
       "      <td>[{'alias': 'pizza', 'title': 'Pizza'}, {'alias...</td>\n",
       "      <td>3.5</td>\n",
       "      <td>{'latitude': 41.36834, 'longitude': -71.81974}</td>\n",
       "      <td>[delivery]</td>\n",
       "      <td>$$</td>\n",
       "      <td>{'address1': '157 Granite St', 'address2': '',...</td>\n",
       "      <td>+14015961001</td>\n",
       "      <td>(401) 596-1001</td>\n",
       "      <td>2702.987120</td>\n",
       "    </tr>\n",
       "    <tr>\n",
       "      <th>38</th>\n",
       "      <td>WIW3FD4EJDFFe3Qkfde6KQ</td>\n",
       "      <td>hilltop-cafe-westerly-3</td>\n",
       "      <td>Hilltop Cafe</td>\n",
       "      <td>https://s3-media4.fl.yelpcdn.com/bphoto/Ph-g-a...</td>\n",
       "      <td>False</td>\n",
       "      <td>https://www.yelp.com/biz/hilltop-cafe-westerly...</td>\n",
       "      <td>16</td>\n",
       "      <td>[{'alias': 'pizza', 'title': 'Pizza'}, {'alias...</td>\n",
       "      <td>3.5</td>\n",
       "      <td>{'latitude': 41.38136394732243, 'longitude': -...</td>\n",
       "      <td>[delivery]</td>\n",
       "      <td>$$</td>\n",
       "      <td>{'address1': '23 Canal St', 'address2': '', 'a...</td>\n",
       "      <td>+18309978922</td>\n",
       "      <td>(830) 997-8922</td>\n",
       "      <td>1574.115634</td>\n",
       "    </tr>\n",
       "    <tr>\n",
       "      <th>39</th>\n",
       "      <td>Lx6EeL5mwVtNdBf9uUEVQA</td>\n",
       "      <td>dominos-pizza-westerly</td>\n",
       "      <td>Domino's Pizza</td>\n",
       "      <td>https://s3-media2.fl.yelpcdn.com/bphoto/2UoGpR...</td>\n",
       "      <td>False</td>\n",
       "      <td>https://www.yelp.com/biz/dominos-pizza-westerl...</td>\n",
       "      <td>10</td>\n",
       "      <td>[{'alias': 'pizza', 'title': 'Pizza'}, {'alias...</td>\n",
       "      <td>3.5</td>\n",
       "      <td>{'latitude': 41.37312, 'longitude': -71.8207}</td>\n",
       "      <td>[]</td>\n",
       "      <td>$</td>\n",
       "      <td>{'address1': '93 Granite St', 'address2': '', ...</td>\n",
       "      <td>+14015968850</td>\n",
       "      <td>(401) 596-8850</td>\n",
       "      <td>2466.757527</td>\n",
       "    </tr>\n",
       "  </tbody>\n",
       "</table>\n",
       "</div>"
      ],
      "text/plain": [
       "                        id                                              alias  \\\n",
       "35  K-J1GXPvYtLMZDhT97eQBg             longo-ristorante-and-pizzeria-westerly   \n",
       "36  HB6DPAR6s7QA0a0ZDFk8Fw                           ritaccos-market-westerly   \n",
       "37  _iYvpGfCwqMa3iMMIypT1Q  supreme-cheese-pizzeria-and-ristorante-westerly-2   \n",
       "38  WIW3FD4EJDFFe3Qkfde6KQ                            hilltop-cafe-westerly-3   \n",
       "39  Lx6EeL5mwVtNdBf9uUEVQA                             dominos-pizza-westerly   \n",
       "\n",
       "                                    name  \\\n",
       "35           Longo Ristorante & Pizzeria   \n",
       "36                      Ritacco's Market   \n",
       "37  Supreme Cheese Pizzeria & Ristorante   \n",
       "38                          Hilltop Cafe   \n",
       "39                        Domino's Pizza   \n",
       "\n",
       "                                            image_url  is_closed  \\\n",
       "35  https://s3-media2.fl.yelpcdn.com/bphoto/taf49q...      False   \n",
       "36  https://s3-media3.fl.yelpcdn.com/bphoto/Psznan...      False   \n",
       "37  https://s3-media4.fl.yelpcdn.com/bphoto/22yh-8...      False   \n",
       "38  https://s3-media4.fl.yelpcdn.com/bphoto/Ph-g-a...      False   \n",
       "39  https://s3-media2.fl.yelpcdn.com/bphoto/2UoGpR...      False   \n",
       "\n",
       "                                                  url  review_count  \\\n",
       "35  https://www.yelp.com/biz/longo-ristorante-and-...            56   \n",
       "36  https://www.yelp.com/biz/ritaccos-market-weste...             7   \n",
       "37  https://www.yelp.com/biz/supreme-cheese-pizzer...            44   \n",
       "38  https://www.yelp.com/biz/hilltop-cafe-westerly...            16   \n",
       "39  https://www.yelp.com/biz/dominos-pizza-westerl...            10   \n",
       "\n",
       "                                           categories  rating  \\\n",
       "35  [{'alias': 'italian', 'title': 'Italian'}, {'a...     4.0   \n",
       "36  [{'alias': 'grocery', 'title': 'Grocery'}, {'a...     5.0   \n",
       "37  [{'alias': 'pizza', 'title': 'Pizza'}, {'alias...     3.5   \n",
       "38  [{'alias': 'pizza', 'title': 'Pizza'}, {'alias...     3.5   \n",
       "39  [{'alias': 'pizza', 'title': 'Pizza'}, {'alias...     3.5   \n",
       "\n",
       "                                          coordinates transactions price  \\\n",
       "35   {'latitude': 41.379771, 'longitude': -71.829123}   [delivery]    $$   \n",
       "36   {'latitude': 41.383861, 'longitude': -71.815867}   [delivery]    $$   \n",
       "37     {'latitude': 41.36834, 'longitude': -71.81974}   [delivery]    $$   \n",
       "38  {'latitude': 41.38136394732243, 'longitude': -...   [delivery]    $$   \n",
       "39      {'latitude': 41.37312, 'longitude': -71.8207}           []     $   \n",
       "\n",
       "                                             location         phone  \\\n",
       "35  {'address1': '84 High St', 'address2': '', 'ad...  +14013150881   \n",
       "36  {'address1': '84 Oak St', 'address2': '', 'add...  +14015961835   \n",
       "37  {'address1': '157 Granite St', 'address2': '',...  +14015961001   \n",
       "38  {'address1': '23 Canal St', 'address2': '', 'a...  +18309978922   \n",
       "39  {'address1': '93 Granite St', 'address2': '', ...  +14015968850   \n",
       "\n",
       "     display_phone     distance  \n",
       "35  (401) 315-0881  1751.562612  \n",
       "36  (401) 596-1835  2932.566994  \n",
       "37  (401) 596-1001  2702.987120  \n",
       "38  (830) 997-8922  1574.115634  \n",
       "39  (401) 596-8850  2466.757527  "
      ]
     },
     "metadata": {},
     "output_type": "display_data"
    }
   ],
   "source": [
    "# Loading 'results in progress' json file into a dataframe\n",
    "final_df = pd.read_json(JSON_FILE)\n",
    "display(final_df.head(), final_df.tail())"
   ]
  },
  {
   "cell_type": "code",
   "execution_count": null,
   "id": "1b3850cd",
   "metadata": {},
   "outputs": [],
   "source": []
  }
 ],
 "metadata": {
  "kernelspec": {
   "display_name": "Python (dojo-env)",
   "language": "python",
   "name": "dojo-env"
  },
  "language_info": {
   "codemirror_mode": {
    "name": "ipython",
    "version": 3
   },
   "file_extension": ".py",
   "mimetype": "text/x-python",
   "name": "python",
   "nbconvert_exporter": "python",
   "pygments_lexer": "ipython3",
   "version": "3.7.12"
  },
  "toc": {
   "base_numbering": 1,
   "nav_menu": {},
   "number_sections": true,
   "sideBar": true,
   "skip_h1_title": false,
   "title_cell": "Table of Contents",
   "title_sidebar": "Contents",
   "toc_cell": false,
   "toc_position": {},
   "toc_section_display": true,
   "toc_window_display": false
  }
 },
 "nbformat": 4,
 "nbformat_minor": 5
}
